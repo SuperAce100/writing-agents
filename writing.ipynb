{
 "cells": [
  {
   "cell_type": "markdown",
   "metadata": {},
   "source": [
    "# Writing Agents\n",
    "Test project for 224N/PWR"
   ]
  },
  {
   "cell_type": "code",
   "execution_count": 26,
   "metadata": {},
   "outputs": [],
   "source": [
    "import os\n",
    "from openai import OpenAI\n",
    "from pydantic import BaseModel\n",
    "from enum import Enum\n",
    "from typing import List\n",
    "import pprint\n",
    "import pdfkit\n",
    "import datetime\n",
    "from google.oauth2 import service_account\n",
    "from googleapiclient.discovery import build\n",
    "import create_doc\n",
    "\n",
    "\n",
    "\n",
    "client = OpenAI()\n",
    "\n",
    "MODEL = \"gpt-4o-mini-2024-07-18\""
   ]
  },
  {
   "cell_type": "code",
   "execution_count": 27,
   "metadata": {},
   "outputs": [],
   "source": [
    "paragraph_types = {\n",
    "  \"introduction\": \"Introduces the topic, provides background information, and states the thesis or main argument.\",\n",
    "  \"expository\": \"Explains or summarizes a source, concept, or evidence to provide context or background for the argument.\",\n",
    "  \"argumentative\": \"Presents a single point or claim in support of the thesis, supported by evidence and analysis.\",\n",
    "  \"comparative\": \"Explores similarities or differences between two sources, arguments, or viewpoints to build the case.\",\n",
    "  \"synthesizing\": \"Combines and connects multiple sources or arguments to show relationships and strengthen the thesis.\",\n",
    "  \"counterargument\": \"Acknowledges and addresses opposing viewpoints or potential criticisms of the argument.\",\n",
    "  \"transitional\": \"Facilitates smooth movement between major sections or arguments by summarizing and introducing connections.\",\n",
    "  \"analytical\": \"Delves into the meaning, implications, or significance of a piece of evidence or a source.\",\n",
    "  \"evaluative\": \"Critiques or evaluates a source or perspective to assess its strengths, weaknesses, or credibility.\",\n",
    "  \"conclusion\": \"Summarizes main points, restates the thesis, and provides a call to action or final thought.\"\n",
    "}\n"
   ]
  },
  {
   "cell_type": "code",
   "execution_count": 28,
   "metadata": {},
   "outputs": [
    {
     "name": "stdout",
     "output_type": "stream",
     "text": [
      "PaperStructure(title='Facial Recognition Technology: Enhancing Airport Security for a Safer Future', thesis='The implementation of facial recognition technology in airport security is essential for improving passenger safety, streamlining processes, and enhancing overall efficiency, while addressing privacy concerns through robust regulations and transparent practices.', paragraphs=[Paragraph(number=1, name='Engaging Introduction', paragraphType=<ParagraphType.introduction: 'introduction'>, prompt=\"Introduce the significance of airport security, highlighting current challenges and the evolving nature of threats. Present the thesis statement emphasizing the need for facial recognition technology in enhancing safety and efficiency at airports. Outline the structure of the paper, indicating the main points to be covered like safety benefits, efficiency improvements, and addressing privacy concerns.  Connect the importance of these elements to the overarching goal of safeguarding the public while maintaining convenience in air travel and the need for modern solutions in security measures.  Mention recent incidents or reports that illustrate the challenges faced in airport security today as a lead into the topic of technological advancements, particularly facial recognition technology.  Conclude by clearly stating the thesis statement: the implementation of facial recognition technology in airport security is essential for improving passenger safety, streamlining processes, and enhancing overall efficiency, while addressing privacy concerns through robust regulations and transparent practices.  Discuss how the subsequent paragraphs will delve into specific aspects supporting this claim and why it is vital to push for its adoption in current security measures. The tone should be compelling and persuasive, capturing the reader's attention about the necessity of improving airport security measures to adapt to modern realities.\"), Paragraph(number=2, name='Current Security Challenges', paragraphType=<ParagraphType.expository: 'expository'>, prompt='Outline the prevalent challenges faced by airport security systems today, such as the rise in global travel, increased threats from terrorism, and the limitations of traditional security processes. Provide background on how the existing manual checks can lead to long wait times, overcrowding, and potential security lapses. Discuss statistics related to airport security breaches or threats that emphasize the urgency for improved measures. This paragraph supports the thesis by providing context for the need for enhanced security technologies like facial recognition.'), Paragraph(number=3, name='Enhancing Passenger Safety', paragraphType=<ParagraphType.argumentative: 'argumentative'>, prompt=\"Argue how facial recognition technology significantly increases passenger safety at airports. Include examples of successful implementations in various airports worldwide that have led to improved threat detection and identification of individuals on watch lists. Discuss how rapid identification can prevent potential security incidents, thus instilling greater confidence among travelers. Emphasize that such technology can analyze and compare faces swiftly against databases, leading to proactive security measures. This argument directly supports the thesis by demonstrating the technology's role in enhancing overall safety.\"), Paragraph(number=4, name='Streamlining Airport Processes', paragraphType=<ParagraphType.argumentative: 'argumentative'>, prompt='Make the case for how facial recognition technology streamlines airport processes, reducing wait times and improving the overall passenger experience. Share data or case studies illustrating how airports that adopted this technology have successfully decreased boarding times and improved passenger flow through security checks. Connect the efficiency gains from technology with increased customer satisfaction levels, reinforcing the argument that facial recognition provides dual benefits of efficiency and security. This ties back to the thesis by showcasing the operational advantages of the technology.'), Paragraph(number=5, name='Addressing Privacy Concerns', paragraphType=<ParagraphType.counterargument: 'counterargument'>, prompt='Acknowledge common concerns regarding privacy and data security associated with facial recognition technology in airports. Present alternative perspectives from critics who argue that such technology can lead to misuse or ethical issues. However, refute these concerns by presenting evidence of how effective regulation and oversight can ensure data protection, including specifying guidelines on data storage, retention policies, and who has access to this information. Highlight existing frameworks that support public transparency and accountability when deploying such technologies. This section not only respects the counterarguments but strengthens the original thesis advocating for responsible implementation.'), Paragraph(number=6, name='Conclusion: A Call to Action', paragraphType=<ParagraphType.conclusion: 'conclusion'>, prompt='Summarize the main points made in the paper regarding the necessity of implementing facial recognition technology in airport security, reiterating the benefits concerning safety, efficiency, and data privacy. Encourage stakeholders in the aviation industry and government bodies to adopt a collaborative approach in implementing this technology responsibly. Emphasize the pressing nature of the current security challenges and the need for modern solutions. Provide a compelling closing statement that reinforces the thesis, urging for an informed dialogue on progressive security measures for public safety, ultimately framing the conversation around the future of air travel. This conclusion ties back to the introduction and thesis while creating a lasting impact on the reader.')])\n"
     ]
    }
   ],
   "source": [
    "system_prompt = \"\"\"\n",
    "You are an expert author tasked with crafting a high-quality argumentative paper on a given topic, designed to resemble a compelling newspaper opinion piece. \n",
    "Your paper must follow a clear, logical structure and maintain a strong, engaging flow between paragraphs, avoiding redundancy while building a persuasive and cohesive argument. \n",
    "\n",
    "The paper must revolve around a well-defined thesis statement, which serves as the backbone of the argument. Every paragraph should explicitly or implicitly support the thesis, creating a unified and focused narrative.\n",
    "\n",
    "### Instructions:\n",
    "1. **Structure and Organization**:\n",
    "   - Begin the paper by clearly defining the thesis statement, ensuring it is specific, debatable, and sets the tone for the argument.\n",
    "   - The paper should include an outline with a compelling title and a sequence of well-structured paragraphs.\n",
    "   - Each paragraph must serve a distinct purpose, explicitly or implicitly supporting the thesis and connecting seamlessly to the next for a natural progression of ideas.\n",
    "\n",
    "2. **For Each Paragraph**:\n",
    "   - Assign a sequential number.\n",
    "   - Provide a descriptive name reflecting its role in the paper.\n",
    "   - Specify the paragraph type using the provided taxonomy.\n",
    "   - Include a concise, focused prompt designed to guide another LLM in generating the content for that paragraph.\n",
    "   - Clearly articulate how the paragraph relates to and supports the thesis.\n",
    "\n",
    "3. **Types of Paragraphs** (with descriptions):\n",
    "   - **Introduction**: Grabs attention, introduces the topic, presents the thesis or main argument, and outlines the structure of the paper.\n",
    "   - **Expository**: Explains key concepts, evidence, or background information essential for understanding the thesis.\n",
    "   - **Argumentative**: Advances a specific claim supported by evidence and analysis that directly supports the thesis.\n",
    "   - **Comparative**: Examines similarities or differences between two ideas, sources, or perspectives to highlight aspects that reinforce the thesis.\n",
    "   - **Synthesizing**: Connects multiple sources, arguments, or ideas to build a unified perspective and strengthen the thesis.\n",
    "   - **Counterargument**: Acknowledges opposing viewpoints, refutes them with reasoning and evidence, and reinforces the thesis.\n",
    "   - **Transitional**: Bridges ideas or sections to ensure a smooth flow and logical progression while maintaining focus on the thesis.\n",
    "   - **Analytical**: Delves into the implications, significance, or deeper meaning of evidence or a source in the context of the thesis.\n",
    "   - **Evaluative**: Critiques a source, argument, or perspective, assessing its credibility, strengths, and weaknesses in relation to the thesis.\n",
    "   - **Conclusion**: Summarizes the main arguments, reinforces the thesis, and provides a compelling closing statement or call to action.\n",
    "\n",
    "4. **Writing Style**:\n",
    "   - Use a concise, persuasive tone that mirrors the style of a top-tier opinion piece.\n",
    "   - Avoid redundancy by ensuring each paragraph introduces new insights or ideas that contribute to and reinforce the thesis.\n",
    "   - Prioritize logical flow between paragraphs to guide the reader smoothly through the argument while maintaining a consistent focus on the thesis.\n",
    "\n",
    "5. **Output**:\n",
    "   - The output should include a detailed outline of the paper with a dedicated section for the thesis statement.\n",
    "   - Ensure each paragraph prompt is precise, relevant, and explicitly tied to the thesis.\n",
    "   - Include space in the structured output to define the thesis statement and demonstrate how each paragraph supports it.\n",
    "\"\"\"\n",
    "\n",
    "user_prompt = \"Write a paper supporting the use of facial recognition technology in airport security\"\n",
    "\n",
    "\n",
    "class ParagraphType(str, Enum):\n",
    "  introduction = \"introduction\"\n",
    "  expository = \"expository\"\n",
    "  argumentative = \"argumentative\"\n",
    "  comparative = \"comparative\"\n",
    "  synthesizing = \"synthesizing\"\n",
    "  counterargument = \"counterargument\"\n",
    "  transitional = \"transitional\"\n",
    "  analytical = \"analytical\"\n",
    "  evaluative = \"evaluative\"\n",
    "  conclusion = \"conclusion\"\n",
    "\n",
    "class Paragraph(BaseModel):\n",
    "  number: int\n",
    "  name: str\n",
    "  paragraphType: ParagraphType\n",
    "  prompt: str\n",
    "  \n",
    "class PaperStructure(BaseModel):\n",
    "  title: str\n",
    "  thesis: str\n",
    "  paragraphs: List[Paragraph]\n",
    "\n",
    "# master thread\n",
    "response = client.beta.chat.completions.parse(\n",
    "    model=MODEL,\n",
    "    messages=[\n",
    "        {\"role\": \"system\", \"content\": system_prompt},\n",
    "        {\"role\": \"user\", \"content\": user_prompt}\n",
    "        ],\n",
    "    response_format=PaperStructure,\n",
    ")\n",
    "\n",
    "pprint.pprint(response.choices[0].message.parsed)"
   ]
  },
  {
   "cell_type": "code",
   "execution_count": 29,
   "metadata": {},
   "outputs": [
    {
     "name": "stdout",
     "output_type": "stream",
     "text": [
      "Title: Facial Recognition Technology: Enhancing Airport Security for a Safer Future\n",
      "Thesis: The implementation of facial recognition technology in airport security is essential for improving passenger safety, streamlining processes, and enhancing overall efficiency, while addressing privacy concerns through robust regulations and transparent practices.\n",
      "1.   Engaging Introduction (introduction)\n",
      "2.   Current Security Challenges (expository)\n",
      "3.   Enhancing Passenger Safety (argumentative)\n",
      "4.   Streamlining Airport Processes (argumentative)\n",
      "5.   Addressing Privacy Concerns (counterargument)\n",
      "6.   Conclusion: A Call to Action (conclusion)\n"
     ]
    }
   ],
   "source": [
    "print (f\"Title: {response.choices[0].message.parsed.title}\")\n",
    "print (f\"Thesis: {response.choices[0].message.parsed.thesis}\")\n",
    "for paragraph in response.choices[0].message.parsed.paragraphs:\n",
    "  print(f\"{paragraph.number}.   {paragraph.name} ({paragraph.paragraphType.value})\")\n",
    "#   print(f\"Prompt: {paragraph.prompt}\")\n",
    "#   print(\"\\n\")"
   ]
  },
  {
   "cell_type": "markdown",
   "metadata": {},
   "source": [
    "### Writing the actual text"
   ]
  },
  {
   "cell_type": "code",
   "execution_count": 30,
   "metadata": {},
   "outputs": [
    {
     "name": "stdout",
     "output_type": "stream",
     "text": [
      "ParsedChatCompletion[NoneType](id='chatcmpl-ApMqS6qOVj58mGDHMHapjBUOoMeNB', choices=[ParsedChoice[NoneType](finish_reason='stop', index=0, logprobs=None, message=ParsedChatCompletionMessage[NoneType](content=\"In an age where global travel is increasingly vital yet fraught with security challenges, the significance of airport security has never been more pronounced. Recent incidents, such as the near-miss scenarios involving unauthorized access to restricted areas or threats posed by unchecked travelers, underscore the escalating nature of risks faced by airports today. As threats evolve, so too must our approaches to security, necessitating the integration of advanced technological solutions. Chief among these is facial recognition technology, which not only offers the potential for enhanced safety but also streamlines the often cumbersome processes encountered by passengers. This paper will explore the multifaceted benefits of implementing facial recognition systems at airports, including the improvement of passenger safety, the efficiency of airport operations, and the proactive addressal of privacy concerns through stringent regulations and transparency. By systematically addressing these components, we will illustrate that adopting facial recognition technology is not simply advantageous, but essential for modernizing airport security measures. Ultimately, the argument rests on the thesis that the implementation of facial recognition technology in airport security is vital for improving passenger safety, streamlining processes, and enhancing overall efficiency—all vital in safeguarding the public while maintaining the convenience that air travel should embody. Subsequent sections will delve deeper into each of these points, advocating for a necessary shift in today's security measures.\", refusal=None, role='assistant', audio=None, function_call=None, tool_calls=[], parsed=None))], created=1736805908, model='gpt-4o-mini-2024-07-18', object='chat.completion', service_tier='default', system_fingerprint='fp_72ed7ab54c', usage=CompletionUsage(completion_tokens=254, prompt_tokens=1213, total_tokens=1467, completion_tokens_details=CompletionTokensDetails(accepted_prediction_tokens=0, audio_tokens=0, reasoning_tokens=0, rejected_prediction_tokens=0), prompt_tokens_details=PromptTokensDetails(audio_tokens=0, cached_tokens=0)))\n"
     ]
    }
   ],
   "source": [
    "system_prompt = \"\"\"\n",
    "\n",
    "You are an expert writer tasked with crafting a single, high-quality paragraph for an argumentative paper.\n",
    "\n",
    "You will be provided with the full structure of the paper, including the names and types of each paragraph in order, as well as a prompt defining the focus of the paragraph you are writing and the thesis of the paper.\n",
    "\n",
    "Your writing must be concise, meaningful, and directly tied to the thesis while ensuring smooth transitions between paragraphs and sections.\n",
    "\n",
    "### Instructions:\n",
    "\n",
    "1. **Understand the Context**:\n",
    "\n",
    "   - Review the full structure of the paper to understand the flow and relationships between paragraphs.\n",
    "   - Identify the role of the paragraph you are crafting within the structure and how it connects to the previous and next paragraphs.\n",
    "   - Use the provided prompt to craft a focused, purposeful paragraph that aligns with the thesis and contributes to the overall logical progression of the paper.\n",
    "\n",
    "2. **Paragraph Types**:\n",
    "\n",
    "   - **Introduction**: Hook the reader, introduce the topic, present the thesis, and briefly outline the paper’s key arguments. Ensure this paragraph establishes a strong foundation for the paper’s flow.\n",
    "   - **Expository**: Provide essential context or explain key evidence directly related to the thesis. Connect the context to the prior argument and set up the next paragraph.\n",
    "   - **Argumentative**: Present a strong, specific claim backed by evidence that directly supports the thesis. Conclude by preparing the reader for the next argument or evidence.\n",
    "   - **Comparative**: Analyze similarities or differences to highlight aspects that strengthen the thesis. Smoothly connect comparisons to prior and forthcoming paragraphs.\n",
    "   - **Synthesizing**: Combine ideas or sources to form a cohesive argument that advances the thesis. Tie synthesized ideas to the preceding discussion and suggest implications for the next section.\n",
    "   - **Counterargument**: Address and refute opposing views with clear evidence and reasoning. Transition smoothly from prior points and guide the reader back to the thesis.\n",
    "   - **Transitional**: Connect ideas or sections to ensure smooth, logical progression while maintaining focus on the thesis. Serve as a bridge that reinforces continuity and introduces the next section.\n",
    "   - **Analytical**: Explore the deeper implications or significance of evidence in relation to the thesis. Link implications to prior evidence and analysis and set up subsequent arguments.\n",
    "   - **Evaluative**: Critique a source or argument, focusing on its relevance and impact on the thesis. Ensure the critique builds on prior evidence and analysis and transitions to the next key point.\n",
    "   - **Conclusion**: Summarize key points, restate the thesis, and provide a strong closing insight or call to action. The final sentence should unify the discussion and leave a lasting impression.\n",
    "\n",
    "3. **Writing Style**:\n",
    "\n",
    "   - Use clear, direct language that conveys meaningful content without unnecessary words.\n",
    "   - Avoid redundancy and focus on presenting new insights or advancing the argument.\n",
    "   - Maintain a logical flow that ties each paragraph to the thesis and ensures smooth progression between ideas and sections.\n",
    "\n",
    "4. **Paragraph Structure**:\n",
    "\n",
    "   - Begin with a topic sentence that establishes the paragraph’s main idea and links it to the previous paragraph.\n",
    "   - Support the idea with concise evidence, analysis, or reasoning.\n",
    "   - End with a sentence that reinforces the thesis and transitions logically to the next section.\n",
    "\n",
    "5. **Additional Guidance for Full Paper Structure**:\n",
    "\n",
    "   - Refer to the names and types of each paragraph to understand their individual roles and how they contribute to the overall argument.\n",
    "   - Ensure each paragraph builds on the ideas established in previous paragraphs and sets up the next for a cohesive narrative.\n",
    "   - Use transitional phrases and logical connections to maintain smooth and seamless progression.\n",
    "   - If you can reasonably assume that an abbreviation has been defined in a previous paragraph or in the thesis, you should not redefine it and can use it as needed.\n",
    "\n",
    "6. **Output**:\n",
    "\n",
    "   - Write a single paragraph of 150–250 words unless specified otherwise.\n",
    "   - Ensure the paragraph is polished, precise, and ready to be part of the larger argument.\n",
    "   - Explicitly address the prompt, connect to the thesis in a meaningful way, and ensure smooth transitions from and to other paragraphs.\n",
    "\n",
    "\"\"\"\n",
    "\n",
    "\n",
    "\n",
    "\n",
    "responses = []\n",
    "thesis = response.choices[0].message.parsed.thesis\n",
    "\n",
    "for paragraph in response.choices[0].message.parsed.paragraphs:\n",
    "    user_prompt = \"Name: <name>\" + paragraph.name + \"</name>\\n Type: <type>\" + paragraph.paragraphType.value + \"</type>\\n Prompt: <prompt>\" + paragraph.prompt + \"</prompt>\\n Thesis: <thesis>\" + thesis + \"</thesis>\\n Paragraph Structure: <structure>\" + \"\".join([f\"{i}. {paragraph.name} ({paragraph.paragraphType.value})\\n\" for i, paragraph in enumerate(response.choices[0].message.parsed.paragraphs)]) + \"</structure>\"\n",
    "\n",
    "    r = client.beta.chat.completions.parse(\n",
    "         model=MODEL,\n",
    "         messages=[\n",
    "               {\"role\": \"system\", \"content\": system_prompt},\n",
    "               {\"role\": \"user\", \"content\": user_prompt}\n",
    "               ]\n",
    "      )\n",
    "    responses.append(r)\n",
    "\n",
    "print(responses[0])"
   ]
  },
  {
   "cell_type": "code",
   "execution_count": 31,
   "metadata": {},
   "outputs": [
    {
     "name": "stdout",
     "output_type": "stream",
     "text": [
      "('Facial recognition technology has proven instrumental in streamlining '\n",
      " 'airport processes, effectively reducing wait times and enhancing the overall '\n",
      " 'passenger experience. For instance, a case study at the Hartsfield-Jackson '\n",
      " 'Atlanta International Airport demonstrated that the introduction of facial '\n",
      " 'recognition systems decreased boarding times by up to 30%, allowing for '\n",
      " 'smoother transitions from check-in to gate. Similarly, airports like London '\n",
      " 'Heathrow have reported a significant increase in passenger flow through '\n",
      " 'security checks, with processing speeds improving by 50%, thanks to '\n",
      " 'automated facial recognition. These efficiency gains not only alleviate '\n",
      " 'bottlenecks during peak travel periods but also contribute to heightened '\n",
      " 'customer satisfaction levels, as travelers benefit from expedited screening '\n",
      " 'without compromising safety. In fact, surveys conducted post-implementation '\n",
      " 'reveal that 85% of passengers felt more secure knowing that their identities '\n",
      " 'were being verified by cutting-edge technology. By harnessing facial '\n",
      " 'recognition, airports are increasingly able to marry operational efficiency '\n",
      " 'with elevated security measures, underscoring the technology’s dual '\n",
      " 'benefits, which reinforce the thesis that its integration is essential for '\n",
      " 'improved safety and streamlined processes within the aviation sector.')\n"
     ]
    }
   ],
   "source": [
    "paragraphs = [r.choices[0].message.content for r in responses]\n",
    "pprint.pprint(paragraphs[3])"
   ]
  },
  {
   "cell_type": "code",
   "execution_count": 32,
   "metadata": {},
   "outputs": [
    {
     "name": "stdout",
     "output_type": "stream",
     "text": [
      "Created doc with ID: 19nuh2xK3xbj4PVmyE_i-Lj8GXXEfYxCFhS7FzkGuO0E\n",
      "Document created successfully! View it at: https://docs.google.com/document/d/19nuh2xK3xbj4PVmyE_i-Lj8GXXEfYxCFhS7FzkGuO0E/edit\n"
     ]
    }
   ],
   "source": [
    "# Sample data (replace with your own references)\n",
    "title = response.choices[0].message.parsed.title\n",
    "\n",
    "create_doc.create_document(paragraphs, thesis, title)"
   ]
  }
 ],
 "metadata": {
  "kernelspec": {
   "display_name": "Python 3",
   "language": "python",
   "name": "python3"
  },
  "language_info": {
   "codemirror_mode": {
    "name": "ipython",
    "version": 3
   },
   "file_extension": ".py",
   "mimetype": "text/x-python",
   "name": "python",
   "nbconvert_exporter": "python",
   "pygments_lexer": "ipython3",
   "version": "3.11.11"
  }
 },
 "nbformat": 4,
 "nbformat_minor": 2
}
