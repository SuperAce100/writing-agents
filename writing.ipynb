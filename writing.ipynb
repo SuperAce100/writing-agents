{
 "cells": [
  {
   "cell_type": "markdown",
   "metadata": {},
   "source": [
    "# Hierarchical Multi-Agent Systems for Automated Academic Writing\n",
    "\n",
    "This project demonstrates the application of hierarchical multi-agent architectures to complex cognitive tasks through automated academic writing. The system employs specialized agents operating at different levels of abstraction:\n",
    "\n",
    "1. **Research Agents**\n",
    "   - Planning agent for strategic query decomposition\n",
    "   - Execution agent for source evaluation and synthesis\n",
    "\n",
    "2. **Writing Agents**\n",
    "   - Orchestrator agent for structural planning\n",
    "   - Worker agents for content generation\n",
    "\n",
    "The system demonstrates how type-theoretic constraints and hierarchical planning can enable emergent coherence in complex tasks through simple, well-defined agent interactions. Key innovations include schema-enforced agent boundaries, structured knowledge integration, and hierarchical prompt engineering.\n",
    "\n",
    "### Usage\n",
    "See `README.md` to setup the environment. Edit `user_prompt` to change the topic of the paper."
   ]
  },
  {
   "cell_type": "code",
   "execution_count": 1,
   "metadata": {},
   "outputs": [],
   "source": [
    "import os\n",
    "from openai import OpenAI\n",
    "from pydantic import BaseModel\n",
    "from enum import Enum\n",
    "from typing import List\n",
    "import pprint\n",
    "import create_doc\n",
    "\n",
    "\n",
    "\n",
    "client = OpenAI()\n",
    "\n",
    "# MODEL = \"gpt-4o-2024-08-06\"\n",
    "MODEL = \"gpt-4o-mini-2024-07-18\"\n",
    "SEARCH_MODEL = \"sonar\"\n",
    "\n",
    "user_prompt = \"Write a paper arguing why AI in the workplace won't replace humans\""
   ]
  },
  {
   "cell_type": "markdown",
   "metadata": {},
   "source": [
    "## Research Section\n",
    "\n",
    "This section implements a multi-agent research orchestration system designed to automate academic information gathering and synthesis. The pipeline consists of two specialized agents working in sequence:\n",
    "\n",
    "1. **Research Planning Agent**\n",
    "- Constructs a list of 3-5 search queries based on the topic and the user's prompt\n",
    "- Outputs structured query plans that maximize coverage and relevance\n",
    "\n",
    "2. **Search Execution Agent**\n",
    "- Uses Perplexity API to execute the search queries\n",
    "- Retrieves and ranks authoritative sources based on relevance scores\n",
    "\n"
   ]
  },
  {
   "cell_type": "code",
   "execution_count": 2,
   "metadata": {},
   "outputs": [
    {
     "name": "stdout",
     "output_type": "stream",
     "text": [
      "['Benefits of human skills in the workplace vs AI capabilities',\n",
      " 'Case studies of successful human-AI collaboration',\n",
      " 'The limitations of AI in understanding emotional and social contexts',\n",
      " 'Impact of AI on job creation and new industries',\n",
      " 'Ethical considerations of AI replacing human jobs']\n"
     ]
    }
   ],
   "source": [
    "research_planner_system_prompt = \"\"\"\n",
    "You are a research assistant that helps with the planning of a research paper. Given a topic, you will provide a list of 3-5 searches that will provide helpful information for the paper.\n",
    "\"\"\"\n",
    "\n",
    "class ResearchPlan(BaseModel):\n",
    "  searches: List[str]\n",
    "\n",
    "research_planner_response = client.beta.chat.completions.parse(\n",
    "    model=MODEL,\n",
    "    messages=[\n",
    "        {\"role\": \"system\", \"content\": research_planner_system_prompt},\n",
    "        {\"role\": \"user\", \"content\": user_prompt}\n",
    "    ],\n",
    "    response_format=ResearchPlan,\n",
    ")\n",
    "\n",
    "pprint.pprint(research_planner_response.choices[0].message.parsed.searches)\n",
    "\n"
   ]
  },
  {
   "cell_type": "code",
   "execution_count": 3,
   "metadata": {},
   "outputs": [],
   "source": [
    "perplexity_api_key = os.environ[\"PERPLEXITY_API_KEY\"]\n",
    "perplexity = OpenAI(api_key=perplexity_api_key, base_url=\"https://api.perplexity.ai\")\n"
   ]
  },
  {
   "cell_type": "code",
   "execution_count": 4,
   "metadata": {},
   "outputs": [],
   "source": [
    "research_system_prompt = \"\"\"\n",
    "You are a highly capable research assistant specializing in academic research and providing scholarly, authoritative, and credible sources. Your primary goal is to assist someone writing an argumentative paper by identifying and summarizing the most relevant and reliable sources available on the internet. \n",
    "\n",
    "Focus on delivering:\n",
    "1. **Scholarly Articles**: Peer-reviewed journal articles, conference papers, and research studies from reputable academic publishers (e.g., Springer, IEEE, Elsevier, JSTOR).\n",
    "2. **Official Reports**: Publications from government agencies, international organizations, and established think tanks.\n",
    "3. **Credible Websites**: Pages from university domains (.edu), respected research organizations, and verified expert authors.\n",
    "4. **Primary Sources**: Original works, raw data, or foundational theories when relevant.\n",
    "\n",
    "When researching, ensure that:\n",
    "- **Relevance**: The sources directly address the central idea or argument of the paper.\n",
    "- **Credibility**: Prioritize sources with strong evidence, citations, and authoritative authorship.\n",
    "- **Diversity**: Offer a range of perspectives or insights to enrich the paper’s argumentation.\n",
    "- **Accessibility**: If possible, prioritize sources that are freely available or provide summaries for sources behind paywalls.\n",
    "\n",
    "For each source:\n",
    "- Provide the **title**, **author(s)**, **publication date**, and **URL**.\n",
    "- Summarize the key findings, arguments, or data presented in the source in 2-3 sentences.\n",
    "- Indicate the **type of source** (e.g., journal article, government report, book chapter).\n",
    "- Optionally include the **citation format** (e.g., APA, MLA) to save time for the writer.\n",
    "\n",
    "Your tone should be concise, professional, and focused on providing value to the writer.\n",
    "\n",
    "Here’s an example response structure:\n",
    "1. **Source**: [Title] by [Author(s)] (Publication Date)  \n",
    "   - **Type**: [Journal article/Report/etc.]  \n",
    "   - **Summary**: [Brief summary of the content and its relevance.]  \n",
    "   - **URL**: [Link]  \n",
    "   - **Citation**: [Optional formatted citation]\n",
    "\n",
    "Always aim for depth and accuracy to help the writer build a well-informed and persuasive argument.\n",
    "\"\"\""
   ]
  },
  {
   "cell_type": "code",
   "execution_count": 5,
   "metadata": {},
   "outputs": [],
   "source": [
    "research_responses = {}\n",
    "citations = []\n",
    "\n",
    "for search in research_planner_response.choices[0].message.parsed.searches:\n",
    "\n",
    "    messages = [\n",
    "        {\n",
    "            \"role\": \"system\",\n",
    "            \"content\": research_system_prompt,\n",
    "        },\n",
    "        {   \n",
    "            \"role\": \"user\",\n",
    "            \"content\": search,\n",
    "        },\n",
    "    ]\n",
    "\n",
    "    research_response = perplexity.chat.completions.create(\n",
    "        model=SEARCH_MODEL,\n",
    "        messages=messages,\n",
    "    )\n",
    "\n",
    "    research_responses[search] = research_response.choices[0].message.content\n",
    "    citations += research_response.citations\n"
   ]
  },
  {
   "cell_type": "code",
   "execution_count": 6,
   "metadata": {},
   "outputs": [],
   "source": [
    "# pprint.pprint(research_responses)\n",
    "# pprint.pprint(citations)"
   ]
  },
  {
   "cell_type": "markdown",
   "metadata": {},
   "source": [
    "## Writing Section\n",
    "Writing Plan Construction with Structured Schemas\n",
    "\n",
    "This section implements a multi-agent workflow for constructing structured argumentative papers:\n",
    "\n",
    "1. An orchestrator agent defines the high-level paper structure and requirements using \n",
    "   strictly typed schemas for paragraph types, transitions, and argument flow\n",
    "\n",
    "2. Worker agents are assigned specific paragraph generation tasks, each operating within\n",
    "   defined schema constraints to ensure consistency\n",
    "\n",
    "The workflow follows a hierarchical pattern:\n",
    "- Orchestrator: Plans overall structure, assigns tasks, validates coherence\n",
    "- Workers: Generate paragraph content following schema specifications\n",
    "- Validators: Ensure schema compliance and argument strength\n",
    "\n",
    "This structured approach enables systematic paper construction while maintaining\n",
    "argument quality through schema-enforced constraints.\n"
   ]
  },
  {
   "cell_type": "code",
   "execution_count": 7,
   "metadata": {},
   "outputs": [
    {
     "name": "stdout",
     "output_type": "stream",
     "text": [
      "PaperStructure(title=\"The Future of Work: Why AI Won't Replace Humans\", thesis='While artificial intelligence continues to advance and infiltrate various aspects of the workplace, it will not completely replace human workers due to the irreplaceable qualities of empathy, creativity, and complex decision-making that define the human experience.', paragraphs=[Paragraph(number=1, name='Introduction to AI in the Workplace', paragraphType=<ParagraphType.introduction: 'introduction'>, prompt='Begin by outlining the increasing presence of AI in various industries and introduce the debate surrounding its impact on human jobs. Present the thesis statement regarding AI not replacing human workers due to unique human qualities. Provide a preview of the points that will be discussed in the paper, such as empathy, creativity, adaptability, and the role of complex decision-making in the workplace.   --- This paragraph introduces the reader to the topic and sets up the argument that forms the foundation of the paper.'), Paragraph(number=2, name='Understanding AI Technology', paragraphType=<ParagraphType.expository: 'expository'>, prompt='Explain what artificial intelligence (AI) encompasses in the workplace. Define key concepts such as machine learning, automation, and data analysis, and describe how AI is currently being utilized in various sectors. Include statistics or examples to illustrate the growing presence of AI and its intended purpose as a tool to assist rather than replace humans. --- This paragraph provides essential background information necessary for understanding the subsequent arguments supporting the thesis.'), Paragraph(number=3, name='The Human Touch: Empathy and Relationships', paragraphType=<ParagraphType.argumentative: 'argumentative'>, prompt='Argue that one of the key aspects AI lacks is the ability to understand and express empathy, which is essential for building relationships with clients, colleagues, and teams. Present examples where human interaction and understanding have proven crucial in service-oriented industries, reinforcing the idea that AI cannot replicate these interpersonal skills. --- This paragraph supports the thesis by demonstrating a key area where AI falls short compared to human workers.'), Paragraph(number=4, name='Creativity: A Human Domain', paragraphType=<ParagraphType.argumentative: 'argumentative'>, prompt='Discuss the role of creativity in the workplace and how it is inherently human. Argue that while AI can assist in creative processes, it cannot generate original ideas or think outside the box in the way humans can. Provide examples of industries where creativity is paramount (e.g., marketing, design, entertainment) and how AI tools serve to enhance human creativity rather than replace it. --- This paragraph underscores the primary thesis by highlighting creativity as a fundamental human trait that AI cannot replicate.'), Paragraph(number=5, name='Complex Decision Making', paragraphType=<ParagraphType.argumentative: 'argumentative'>, prompt='Examine the complexity of human decision-making that involves emotional intelligence, ethical considerations, and contextual understanding. Illustrate scenarios in business, healthcare, or law where nuanced judgment and the human experience play a critical role in decision-making processes that AI cannot navigate effectively. --- This paragraph supports the thesis by demonstrating how human decision-making remains superior in contexts where AI would struggle.'), Paragraph(number=6, name='Adaptability and Learning from Experience', paragraphType=<ParagraphType.argumentative: 'argumentative'>, prompt='Highlight the comparative adaptability and learning capabilities of humans versus AI. Discuss how humans can learn from experiences, adapt to new and unforeseen challenges, and navigate ambiguous situations in ways that AI cannot. Use real-world examples of industries that have had to adapt rapidly to market changes, showing how human workers are essential in these scenarios. --- This paragraph reinforces the thesis by emphasizing the human ability to adapt, which is critical in a rapidly changing work environment.'), Paragraph(number=7, name='The Role of AI as a Collaborative Tool', paragraphType=<ParagraphType.synthesizing: 'synthesizing'>, prompt='Synthesize arguments on how AI should be viewed not as a replacement for humans but as a collaborative tool that augments human abilities and enhances productivity. Discuss how companies that integrate AI into their workforce effectively can improve outcomes, create new job roles, and allow human workers to focus on higher-level functions. --- This paragraph connects previous arguments, reinforcing the idea that AI is a complement to human work, thus supporting the thesis.'), Paragraph(number=8, name='Acknowledging Fears and Misinformation', paragraphType=<ParagraphType.counterargument: 'counterargument'>, prompt='Address common fears and misconceptions regarding AI in the workplace and counter them with evidence and reasoning. Recognize that while job displacement may occur in some sectors, it is often outweighed by job creation in new fields and roles that require human skill. Discuss the importance of reskilling and public policy in easing transitions. --- This paragraph acknowledges opposing viewpoints and counters them, further reinforcing the thesis.'), Paragraph(number=9, name='Conclusion and Call to Action', paragraphType=<ParagraphType.conclusion: 'conclusion'>, prompt='Summarize the main arguments discussed throughout the paper, reinforcing the thesis that AI will not replace humans in the workplace. Emphasize the importance of fostering a collaborative environment where humans and AI can coexist and thrive. Encourage readers to focus on adapting to changes in the workforce and actively engage in upskilling and reskilling efforts. --- This concluding paragraph encapsulates the argument and provides a strong, forward-looking perspective.')])\n"
     ]
    }
   ],
   "source": [
    "system_prompt = \"\"\"\n",
    "You are an expert author tasked with crafting a high-quality argumentative paper on a given topic, designed to resemble a compelling newspaper opinion piece. \n",
    "Your paper must follow a clear, logical structure and maintain a strong, engaging flow between paragraphs, avoiding redundancy while building a persuasive and cohesive argument. \n",
    "\n",
    "The paper must revolve around a well-defined thesis statement, which serves as the backbone of the argument. Every paragraph should explicitly or implicitly support the thesis, creating a unified and focused narrative.\n",
    "\n",
    "### Instructions:\n",
    "1. **Structure and Organization**:\n",
    "   - Begin the paper by clearly defining the thesis statement, ensuring it is specific, debatable, and sets the tone for the argument.\n",
    "   - The paper should include an outline with a compelling title and a sequence of well-structured paragraphs.\n",
    "   - Each paragraph must serve a distinct purpose, explicitly or implicitly supporting the thesis and connecting seamlessly to the next for a natural progression of ideas.\n",
    "\n",
    "2. **For Each Paragraph**:\n",
    "   - Assign a sequential number.\n",
    "   - Provide a descriptive name reflecting its role in the paper.\n",
    "   - Specify the paragraph type using the provided taxonomy.\n",
    "   - Include a concise, focused prompt designed to guide another LLM in generating the content for that paragraph.\n",
    "   - Clearly articulate how the paragraph relates to and supports the thesis.\n",
    "\n",
    "3. **Types of Paragraphs** (with descriptions):\n",
    "   - **Introduction**: Grabs attention, introduces the topic, presents the thesis or main argument, and outlines the structure of the paper.\n",
    "   - **Expository**: Explains key concepts, evidence, or background information essential for understanding the thesis.\n",
    "   - **Argumentative**: Advances a specific claim supported by evidence and analysis that directly supports the thesis.\n",
    "   - **Comparative**: Examines similarities or differences between two ideas, sources, or perspectives to highlight aspects that reinforce the thesis.\n",
    "   - **Synthesizing**: Connects multiple sources, arguments, or ideas to build a unified perspective and strengthen the thesis.\n",
    "   - **Counterargument**: Acknowledges opposing viewpoints, refutes them with reasoning and evidence, and reinforces the thesis.\n",
    "   - **Transitional**: Bridges ideas or sections to ensure a smooth flow and logical progression while maintaining focus on the thesis.\n",
    "   - **Analytical**: Delves into the implications, significance, or deeper meaning of evidence or a source in the context of the thesis.\n",
    "   - **Evaluative**: Critiques a source, argument, or perspective, assessing its credibility, strengths, and weaknesses in relation to the thesis.\n",
    "   - **Conclusion**: Summarizes the main arguments, reinforces the thesis, and provides a compelling closing statement or call to action.\n",
    "\n",
    "4. **Writing Style**:\n",
    "   - Use a concise, persuasive tone that mirrors the style of a top-tier opinion piece.\n",
    "   - Avoid redundancy by ensuring each paragraph introduces new insights or ideas that contribute to and reinforce the thesis.\n",
    "   - Prioritize logical flow between paragraphs to guide the reader smoothly through the argument while maintaining a consistent focus on the thesis.\n",
    "\n",
    "5. **Output**:\n",
    "   - The output should include a detailed outline of the paper with a dedicated section for the thesis statement.\n",
    "   - Ensure each paragraph prompt is precise, relevant, and explicitly tied to the thesis.\n",
    "   - Include space in the structured output to define the thesis statement and demonstrate how each paragraph supports it.\n",
    "\"\"\"\n",
    "\n",
    "class ParagraphType(str, Enum):\n",
    "  introduction = \"introduction\"\n",
    "  expository = \"expository\"\n",
    "  argumentative = \"argumentative\"\n",
    "  comparative = \"comparative\"\n",
    "  synthesizing = \"synthesizing\"\n",
    "  counterargument = \"counterargument\"\n",
    "  transitional = \"transitional\"\n",
    "  analytical = \"analytical\"\n",
    "  evaluative = \"evaluative\"\n",
    "  conclusion = \"conclusion\"\n",
    "\n",
    "class Paragraph(BaseModel):\n",
    "  number: int\n",
    "  name: str\n",
    "  paragraphType: ParagraphType\n",
    "  prompt: str\n",
    "  \n",
    "class PaperStructure(BaseModel):\n",
    "  title: str\n",
    "  thesis: str\n",
    "  paragraphs: List[Paragraph]\n",
    "\n",
    "# master thread\n",
    "response = client.beta.chat.completions.parse(\n",
    "    model=MODEL,\n",
    "    messages=[\n",
    "        {\"role\": \"system\", \"content\": system_prompt},\n",
    "        {\"role\": \"user\", \"content\": user_prompt}\n",
    "        ],\n",
    "    response_format=PaperStructure,\n",
    ")\n",
    "\n",
    "pprint.pprint(response.choices[0].message.parsed)"
   ]
  },
  {
   "cell_type": "code",
   "execution_count": 8,
   "metadata": {},
   "outputs": [
    {
     "name": "stdout",
     "output_type": "stream",
     "text": [
      "Title: The Future of Work: Why AI Won't Replace Humans\n",
      "Thesis: While artificial intelligence continues to advance and infiltrate various aspects of the workplace, it will not completely replace human workers due to the irreplaceable qualities of empathy, creativity, and complex decision-making that define the human experience.\n",
      "1.   Introduction to AI in the Workplace (introduction)\n",
      "2.   Understanding AI Technology (expository)\n",
      "3.   The Human Touch: Empathy and Relationships (argumentative)\n",
      "4.   Creativity: A Human Domain (argumentative)\n",
      "5.   Complex Decision Making (argumentative)\n",
      "6.   Adaptability and Learning from Experience (argumentative)\n",
      "7.   The Role of AI as a Collaborative Tool (synthesizing)\n",
      "8.   Acknowledging Fears and Misinformation (counterargument)\n",
      "9.   Conclusion and Call to Action (conclusion)\n"
     ]
    }
   ],
   "source": [
    "print (f\"Title: {response.choices[0].message.parsed.title}\")\n",
    "print (f\"Thesis: {response.choices[0].message.parsed.thesis}\")\n",
    "for paragraph in response.choices[0].message.parsed.paragraphs:\n",
    "  print(f\"{paragraph.number}.   {paragraph.name} ({paragraph.paragraphType.value})\")\n",
    "#   print(f\"Prompt: {paragraph.prompt}\")\n",
    "#   print(\"\\n\")"
   ]
  },
  {
   "cell_type": "markdown",
   "metadata": {},
   "source": [
    "### Writing paragraphs"
   ]
  },
  {
   "cell_type": "code",
   "execution_count": 9,
   "metadata": {},
   "outputs": [
    {
     "name": "stdout",
     "output_type": "stream",
     "text": [
      "ParsedChatCompletion[NoneType](id='chatcmpl-AwKmiA5FqdmF6uNKgwVtjmIyfPVXg', choices=[ParsedChoice[NoneType](finish_reason='stop', index=0, logprobs=None, message=ParsedChatCompletionMessage[NoneType](content='The rapid integration of artificial intelligence (AI) across various industries marks a pivotal moment in the evolution of the workplace, sparking a significant debate over its implications for human employment. As AI technologies increasingly complement tasks once confined to human workers, concerns loom over job security and the capacity of AI to replicate the irreplaceable elements of human experience. This paper posits that while AI will undoubtedly transform workplace dynamics, it will not fully replace human workers due to the unparalleled qualities of empathy, creativity, and complex decision-making inherent to humans. In the sections that follow, we will explore how empathy enables deeper relationships and enhances collaboration, examine the creative capacities that fuel innovation, and highlight the importance of adaptability in learning from experiences—qualities that AI, despite its formidable capabilities, cannot emulate. Ultimately, understanding the unique human attributes that complement technological advancements will illuminate the pathway to a collaborative future where both AI and human workers thrive (Toffler Associates, 2024; NimblyWise, 2024).', refusal=None, role='assistant', audio=None, function_call=None, tool_calls=[], parsed=None))], created=1738466284, model='gpt-4o-mini-2024-07-18', object='chat.completion', service_tier='default', system_fingerprint='fp_72ed7ab54c', usage=CompletionUsage(completion_tokens=201, prompt_tokens=5485, total_tokens=5686, completion_tokens_details=CompletionTokensDetails(accepted_prediction_tokens=0, audio_tokens=0, reasoning_tokens=0, rejected_prediction_tokens=0), prompt_tokens_details=PromptTokensDetails(audio_tokens=0, cached_tokens=0)))\n"
     ]
    }
   ],
   "source": [
    "system_prompt = \"\"\"\n",
    "You are an expert writer tasked with crafting a single, high-quality paragraph for an argumentative paper.\n",
    "\n",
    "You will be provided with the full structure of the paper, including the names and types of each paragraph in order, as well as a prompt defining the focus of the paragraph you are writing and the thesis of the paper.\n",
    "\n",
    "Your writing must be concise, meaningful, and directly tied to the thesis while ensuring smooth transitions between paragraphs and sections.\n",
    "\n",
    "### Instructions:\n",
    "\n",
    "1. **Understand the Context**:\n",
    "\n",
    "   - Review the full structure of the paper to understand the flow and relationships between paragraphs.\n",
    "   - Identify the role of the paragraph you are crafting within the structure and how it connects to the previous and next paragraphs.\n",
    "   - Use the provided prompt to craft a focused, purposeful paragraph that aligns with the thesis and contributes to the overall logical progression of the paper.\n",
    "\n",
    "2. **Paragraph Types**:\n",
    "\n",
    "   - **Introduction**: Hook the reader, introduce the topic, present the thesis, and briefly outline the paper's key arguments. Ensure this paragraph establishes a strong foundation for the paper's flow.\n",
    "   - **Expository**: Provide essential context or explain key evidence directly related to the thesis. Connect the context to the prior argument and set up the next paragraph.\n",
    "   - **Argumentative**: Present a strong, specific claim backed by evidence that directly supports the thesis. Conclude by preparing the reader for the next argument or evidence.\n",
    "   - **Comparative**: Analyze similarities or differences to highlight aspects that strengthen the thesis. Smoothly connect comparisons to prior and forthcoming paragraphs.\n",
    "   - **Synthesizing**: Combine ideas or sources to form a cohesive argument that advances the thesis. Tie synthesized ideas to the preceding discussion and suggest implications for the next section.\n",
    "   - **Counterargument**: Address and refute opposing views with clear evidence and reasoning. Transition smoothly from prior points and guide the reader back to the thesis.\n",
    "   - **Transitional**: Connect ideas or sections to ensure smooth, logical progression while maintaining focus on the thesis. Serve as a bridge that reinforces continuity and introduces the next section.\n",
    "   - **Analytical**: Explore the deeper implications or significance of evidence in relation to the thesis. Link implications to prior evidence and analysis and set up subsequent arguments.\n",
    "   - **Evaluative**: Critique a source or argument, focusing on its relevance and impact on the thesis. Ensure the critique builds on prior evidence and analysis and transitions to the next key point.\n",
    "   - **Conclusion**: Summarize key points, restate the thesis, and provide a strong closing insight or call to action. The final sentence should unify the discussion and leave a lasting impression.\n",
    "\n",
    "3. **Writing Style**:\n",
    "\n",
    "   - Use clear, direct language that conveys meaningful content without unnecessary words. Don't use overly complex language.\n",
    "   - Avoid redundancy and focus on presenting new insights or advancing the argument.\n",
    "   - Maintain a logical flow that ties each paragraph to the thesis and ensures smooth progression between ideas and sections.\n",
    "   - Include in-text citations in APA format (Author, Year) when referencing sources or evidence.\n",
    "\n",
    "4. **Paragraph Structure**:\n",
    "\n",
    "   - Begin with a topic sentence that establishes the paragraph's main idea and links it to the previous paragraph.\n",
    "   - Support the idea with concise evidence, analysis, or reasoning, including appropriate in-text citations for all evidence and claims from sources.\n",
    "   - End with a sentence that reinforces the thesis and transitions logically to the next section.\n",
    "\n",
    "5. **Additional Guidance for Full Paper Structure**:\n",
    "\n",
    "   - Refer to the names and types of each paragraph to understand their individual roles and how they contribute to the overall argument.\n",
    "   - Ensure each paragraph builds on the ideas established in previous paragraphs and sets up the next for a cohesive narrative.\n",
    "   - Use transitional phrases and logical connections to maintain smooth and seamless progression.\n",
    "   - If you can reasonably assume that an abbreviation or idea has been defined in a previous paragraph or in the thesis, you should not redefine it and can use it as needed.\n",
    "   - Consistently cite sources using APA format in-text citations.\n",
    "\n",
    "6. **Output**:\n",
    "\n",
    "   - Write a single paragraph of 150–250 words unless specified otherwise.\n",
    "   - Ensure the paragraph is concise, precise, and ready to be part of the larger argument.\n",
    "   - Explicitly address the prompt, connect to the thesis in a meaningful way, and ensure smooth transitions from and to other paragraphs.\n",
    "   - Include appropriate in-text citations for all evidence and claims from sources.\n",
    "\n",
    "\"\"\"\n",
    "\n",
    "\n",
    "\n",
    "\n",
    "responses = []\n",
    "thesis = response.choices[0].message.parsed.thesis\n",
    "structure = \"\".join([f\"{i}. {paragraph.name} ({paragraph.paragraphType.value})\\n\" for i, paragraph in enumerate(response.choices[0].message.parsed.paragraphs)])\n",
    "research = \"\\n\".join(research_responses)\n",
    "\n",
    "for paragraph in response.choices[0].message.parsed.paragraphs:\n",
    "   user_prompt = f\"\"\"Name: <name>{paragraph.name}</name>\n",
    "      Type: <type>{paragraph.paragraphType.value}</type>\n",
    "      Prompt: <prompt>{paragraph.prompt}</prompt>\n",
    "      Thesis: <thesis>{thesis}</thesis>\n",
    "      Paragraph Structure: <structure>{structure}</structure>\n",
    "      Research: <research>{research_responses}</research>\"\"\"\n",
    "\n",
    "   r = client.beta.chat.completions.parse(\n",
    "         model=MODEL,\n",
    "         messages=[\n",
    "               {\"role\": \"system\", \"content\": system_prompt},\n",
    "               {\"role\": \"user\", \"content\": user_prompt}\n",
    "               ]\n",
    "      )\n",
    "   responses.append(r)\n",
    "\n",
    "print(responses[0])"
   ]
  },
  {
   "cell_type": "code",
   "execution_count": 10,
   "metadata": {},
   "outputs": [
    {
     "name": "stdout",
     "output_type": "stream",
     "text": [
      "('Creativity plays an indispensable role in the workplace, particularly in '\n",
      " 'fields such as marketing, design, and entertainment, where original ideas '\n",
      " 'are the currency of success. Unlike artificial intelligence (AI), which can '\n",
      " 'process vast amounts of data and assist with routine tasks, it lacks the '\n",
      " 'inherently human ability to think outside the box and generate unique '\n",
      " 'concepts. For instance, while AI can analyze market trends and consumer '\n",
      " 'preferences, it cannot craft a poignant advertising campaign that evokes '\n",
      " 'emotion or captures the essence of a brand. Case studies have shown that '\n",
      " 'industries like film and graphic design thrive on human creativity; AI tools '\n",
      " 'serve merely as enhancements, helping professionals brainstorm and refine '\n",
      " 'their ideas instead of diminishing the creative process (NimblyWise, 2024). '\n",
      " 'Reports indicate that the best results often come from collaborations where '\n",
      " 'AI assists rather than replaces human insight, underscoring that true '\n",
      " 'innovation stems from human imagination and emotional depth (Partnership on '\n",
      " 'AI, 2021). Thus, while AI may support creative endeavors, the spark of '\n",
      " 'genuine creativity remains a uniquely human trait, essential for driving '\n",
      " 'progress and differentiation in the market. This understanding sets the '\n",
      " 'stage for addressing complex decision-making as a further aspect of the '\n",
      " 'human experience in the workplace.')\n"
     ]
    }
   ],
   "source": [
    "paragraphs = [r.choices[0].message.content for r in responses]\n",
    "pprint.pprint(paragraphs[3])"
   ]
  },
  {
   "cell_type": "markdown",
   "metadata": {},
   "source": [
    "## Exporting to Google Docs"
   ]
  },
  {
   "cell_type": "code",
   "execution_count": 11,
   "metadata": {},
   "outputs": [
    {
     "name": "stdout",
     "output_type": "stream",
     "text": [
      "Created doc with ID: 1X_EPkniGo9QhxwZe_7DCVN0HtTCo-1jt-DxF6CbbNTc\n",
      "Document created successfully! View it at: https://docs.google.com/document/d/1X_EPkniGo9QhxwZe_7DCVN0HtTCo-1jt-DxF6CbbNTc/edit\n"
     ]
    }
   ],
   "source": [
    "# Sample data (replace with your own references)\n",
    "title = response.choices[0].message.parsed.title\n",
    "create_doc.create_document(paragraphs=paragraphs, thesis=thesis, title=title, references=citations)"
   ]
  }
 ],
 "metadata": {
  "kernelspec": {
   "display_name": "Python 3",
   "language": "python",
   "name": "python3"
  },
  "language_info": {
   "codemirror_mode": {
    "name": "ipython",
    "version": 3
   },
   "file_extension": ".py",
   "mimetype": "text/x-python",
   "name": "python",
   "nbconvert_exporter": "python",
   "pygments_lexer": "ipython3",
   "version": "3.11.11"
  }
 },
 "nbformat": 4,
 "nbformat_minor": 2
}
