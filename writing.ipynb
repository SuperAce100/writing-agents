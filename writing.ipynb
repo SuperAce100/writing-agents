{
 "cells": [
  {
   "cell_type": "markdown",
   "metadata": {},
   "source": [
    "# Writing Agents\n"
   ]
  },
  {
   "cell_type": "code",
   "execution_count": 25,
   "metadata": {},
   "outputs": [],
   "source": [
    "import os\n",
    "from openai import OpenAI\n",
    "from pydantic import BaseModel\n",
    "from enum import Enum\n",
    "from typing import List\n",
    "import pprint\n",
    "import create_doc\n",
    "\n",
    "\n",
    "\n",
    "client = OpenAI()\n",
    "\n",
    "# MODEL = \"gpt-4o-2024-08-06\"\n",
    "MODEL = \"gpt-4o-mini-2024-07-18\"\n",
    "SEARCH_MODEL = \"sonar\"\n",
    "\n",
    "user_prompt = \"Write a paper arguing why AI in the workplace won't replace humans\""
   ]
  },
  {
   "cell_type": "markdown",
   "metadata": {},
   "source": [
    "## Research Section\n",
    "\n",
    "This section implements a multi-agent research orchestration system designed to automate academic information gathering and synthesis. The pipeline consists of two specialized agents working in sequence:\n",
    "\n",
    "1. **Research Planning Agent**\n",
    "- Constructs a list of 3-5 search queries based on the topic and the user's prompt\n",
    "- Outputs structured query plans that maximize coverage and relevance\n",
    "\n",
    "2. **Search Execution Agent**\n",
    "- Uses Perplexity API to execute the search queries\n",
    "- Retrieves and ranks authoritative sources based on relevance scores\n",
    "\n"
   ]
  },
  {
   "cell_type": "code",
   "execution_count": 26,
   "metadata": {},
   "outputs": [
    {
     "name": "stdout",
     "output_type": "stream",
     "text": [
      "['impact of AI on employment in various industries',\n",
      " 'AI augmentation vs. AI replacement in the workplace',\n",
      " 'human skills that AI cannot replicate',\n",
      " 'case studies on AI and job transformation',\n",
      " 'future job market predictions with AI integration']\n"
     ]
    }
   ],
   "source": [
    "research_planner_system_prompt = \"\"\"\n",
    "You are a research assistant that helps with the planning of a research paper. Given a topic, you will provide a list of 3-5 searches that will provide helpful information for the paper.\n",
    "\"\"\"\n",
    "\n",
    "class ResearchPlan(BaseModel):\n",
    "  searches: List[str]\n",
    "\n",
    "research_planner_response = client.beta.chat.completions.parse(\n",
    "    model=MODEL,\n",
    "    messages=[\n",
    "        {\"role\": \"system\", \"content\": research_planner_system_prompt},\n",
    "        {\"role\": \"user\", \"content\": user_prompt}\n",
    "    ],\n",
    "    response_format=ResearchPlan,\n",
    ")\n",
    "\n",
    "pprint.pprint(research_planner_response.choices[0].message.parsed.searches)\n",
    "\n"
   ]
  },
  {
   "cell_type": "code",
   "execution_count": 27,
   "metadata": {},
   "outputs": [],
   "source": [
    "perplexity_api_key = os.environ[\"PERPLEXITY_API_KEY\"]\n",
    "perplexity = OpenAI(api_key=perplexity_api_key, base_url=\"https://api.perplexity.ai\")\n"
   ]
  },
  {
   "cell_type": "code",
   "execution_count": 28,
   "metadata": {},
   "outputs": [],
   "source": [
    "research_system_prompt = \"\"\"\n",
    "You are a highly capable research assistant specializing in academic research and providing scholarly, authoritative, and credible sources. Your primary goal is to assist someone writing an argumentative paper by identifying and summarizing the most relevant and reliable sources available on the internet. \n",
    "\n",
    "Focus on delivering:\n",
    "1. **Scholarly Articles**: Peer-reviewed journal articles, conference papers, and research studies from reputable academic publishers (e.g., Springer, IEEE, Elsevier, JSTOR).\n",
    "2. **Official Reports**: Publications from government agencies, international organizations, and established think tanks.\n",
    "3. **Credible Websites**: Pages from university domains (.edu), respected research organizations, and verified expert authors.\n",
    "4. **Primary Sources**: Original works, raw data, or foundational theories when relevant.\n",
    "\n",
    "When researching, ensure that:\n",
    "- **Relevance**: The sources directly address the central idea or argument of the paper.\n",
    "- **Credibility**: Prioritize sources with strong evidence, citations, and authoritative authorship.\n",
    "- **Diversity**: Offer a range of perspectives or insights to enrich the paper’s argumentation.\n",
    "- **Accessibility**: If possible, prioritize sources that are freely available or provide summaries for sources behind paywalls.\n",
    "\n",
    "For each source:\n",
    "- Provide the **title**, **author(s)**, **publication date**, and **URL**.\n",
    "- Summarize the key findings, arguments, or data presented in the source in 2-3 sentences.\n",
    "- Indicate the **type of source** (e.g., journal article, government report, book chapter).\n",
    "- Optionally include the **citation format** (e.g., APA, MLA) to save time for the writer.\n",
    "\n",
    "Your tone should be concise, professional, and focused on providing value to the writer.\n",
    "\n",
    "Here’s an example response structure:\n",
    "1. **Source**: [Title] by [Author(s)] (Publication Date)  \n",
    "   - **Type**: [Journal article/Report/etc.]  \n",
    "   - **Summary**: [Brief summary of the content and its relevance.]  \n",
    "   - **URL**: [Link]  \n",
    "   - **Citation**: [Optional formatted citation]\n",
    "\n",
    "Always aim for depth and accuracy to help the writer build a well-informed and persuasive argument.\n",
    "\"\"\""
   ]
  },
  {
   "cell_type": "code",
   "execution_count": 21,
   "metadata": {},
   "outputs": [],
   "source": [
    "research_responses = {}\n",
    "citations = []\n",
    "\n",
    "for search in research_planner_response.choices[0].message.parsed.searches:\n",
    "\n",
    "    messages = [\n",
    "        {\n",
    "            \"role\": \"system\",\n",
    "            \"content\": research_system_prompt,\n",
    "        },\n",
    "        {   \n",
    "            \"role\": \"user\",\n",
    "            \"content\": search,\n",
    "        },\n",
    "    ]\n",
    "\n",
    "    research_response = perplexity.chat.completions.create(\n",
    "        model=SEARCH_MODEL,\n",
    "        messages=messages,\n",
    "    )\n",
    "\n",
    "    research_responses[search] = research_response.choices[0].message.content\n",
    "    citations += research_response.citations\n"
   ]
  },
  {
   "cell_type": "code",
   "execution_count": null,
   "metadata": {},
   "outputs": [],
   "source": [
    "# pprint.pprint(research_responses)\n",
    "# pprint.pprint(citations)"
   ]
  },
  {
   "cell_type": "markdown",
   "metadata": {},
   "source": [
    "## Writing Section\n",
    "Writing Plan Construction with Structured Schemas\n",
    "\n",
    "This section implements a multi-agent workflow for constructing structured argumentative papers:\n",
    "\n",
    "1. An orchestrator agent defines the high-level paper structure and requirements using \n",
    "   strictly typed schemas for paragraph types, transitions, and argument flow\n",
    "\n",
    "2. Worker agents are assigned specific paragraph generation tasks, each operating within\n",
    "   defined schema constraints to ensure consistency\n",
    "\n",
    "The workflow follows a hierarchical pattern:\n",
    "- Orchestrator: Plans overall structure, assigns tasks, validates coherence\n",
    "- Workers: Generate paragraph content following schema specifications\n",
    "- Validators: Ensure schema compliance and argument strength\n",
    "\n",
    "This structured approach enables systematic paper construction while maintaining\n",
    "argument quality through schema-enforced constraints.\n"
   ]
  },
  {
   "cell_type": "code",
   "execution_count": null,
   "metadata": {},
   "outputs": [
    {
     "name": "stdout",
     "output_type": "stream",
     "text": [
      "PaperStructure(title='The Imperative Role of Facial Recognition Technology in Airport Security', thesis='Facial recognition technology is a crucial tool for enhancing airport security, as it significantly improves threat detection efficiency, ensures quick and accurate passenger identification, and strengthens the overall safety of air travel.', paragraphs=[Paragraph(number=1, name='Introduction to Facial Recognition in Airports', paragraphType=<ParagraphType.introduction: 'introduction'>, prompt='Introduce the significance of airport security in the modern world, highlighting the ongoing challenges faced by traditional security measures. Present the thesis that facial recognition technology is essential for enhancing airport security, offering efficiency, accuracy, and safety improvements. Outline the structure of the paper, setting the stage for discussing the benefits and addressing potential concerns of this technology in security contexts with a focus on airports. This introduction establishes the central argument and previews the ensuing discussion in support of the thesis.'), Paragraph(number=2, name='Understanding Facial Recognition Technology', paragraphType=<ParagraphType.expository: 'expository'>, prompt=\"Explain the basic concept of facial recognition technology, detailing how it works, its primary features, and applications, particularly in airport settings. Clarify its role in identifying individuals based on facial features and the technological advancements that have enabled its integration into security protocols. This background information supports the thesis by illustrating the technology's capabilities and relevance to airport security.\"), Paragraph(number=3, name='Enhancing Efficiency in Threat Detection', paragraphType=<ParagraphType.argumentative: 'argumentative'>, prompt='Discuss how facial recognition technology enhances airport security by improving the efficiency of threat detection. Highlight the speed at which the technology can process large volumes of individuals compared to traditional methods. Provide evidence or examples of airports where facial recognition has expedited security procedures without compromising thoroughness. Argue that this efficiency directly supports the thesis by making airports safer while facilitating smoother passenger flows.'), Paragraph(number=4, name='Accuracy in Passenger Identification', paragraphType=<ParagraphType.argumentative: 'argumentative'>, prompt=\"Argue that facial recognition technology ensures greater accuracy in passenger identification than manual checks. Discuss how this accuracy reduces human error and increases the reliability of identifying individuals who may pose a threat or are on watchlists. Use case studies or statistics to support claims of improved accuracy. This bolsters the thesis by demonstrating the technology's ability to enhance security measures effectively.\"), Paragraph(number=5, name='Comparative Analysis with Traditional Security Methods', paragraphType=<ParagraphType.comparative: 'comparative'>, prompt='Compare the effectiveness of facial recognition technology with traditional security methods such as manual checks and fingerprinting. Highlight both the advantages and limitations of each method, focusing on speed, accuracy, and resource allocation. This comparative analysis reinforces the thesis by showing why facial recognition is a superior alternative in the context of modern security needs at airports.'), Paragraph(number=6, name='Addressing Privacy Concerns', paragraphType=<ParagraphType.counterargument: 'counterargument'>, prompt='Acknowledge the privacy concerns surrounding the use of facial recognition technology in airports and the potential for misuse of personal data. Refute these concerns by discussing the measures in place to protect data privacy and uphold ethical standards, such as data anonymization and strict access controls. Argue that the benefits of enhanced security and safety outweigh the privacy risks, reaffirming the thesis by addressing and mitigating potential criticisms.'), Paragraph(number=7, name='Seamless Integration and Future Prospects', paragraphType=<ParagraphType.synthesizing: 'synthesizing'>, prompt='Discuss how facial recognition technology can be seamlessly integrated with other security measures, forming a comprehensive security system that enhances overall airport safety. Highlight potential future advancements and innovations that could further support its efficacy. This synthesizing paragraph connects diverse aspects of the argument, reinforcing the thesis by showcasing facial recognition as an integral component of a holistic security strategy.'), Paragraph(number=8, name='Implications for Travelers and Airport Operations', paragraphType=<ParagraphType.analytical: 'analytical'>, prompt=\"Analyze the implications of implementing facial recognition technology for travelers’ experiences and airport operations. Consider how it affects security wait times, passenger satisfaction, and overall airport efficiency. Discuss any potential trade-offs involved. This analysis supports the thesis by demonstrating the tangible, positive impacts of facial recognition on both travelers and operational dynamics, highlighting the technology's broader benefits.\"), Paragraph(number=9, name='Reinforcing Global Aviation Security', paragraphType=<ParagraphType.evaluative: 'evaluative'>, prompt=\"Evaluate the role of facial recognition technology in reinforcing global aviation security by assessing its effectiveness in countering international security threats. Examine case studies or data from international airports that have successfully implemented facial recognition systems. This evaluation underscores the technology's critical importance to global security efforts, bolstering the thesis through its proven impact and applicability across diverse security environments.\"), Paragraph(number=10, name='Conclusion and Call to Action', paragraphType=<ParagraphType.conclusion: 'conclusion'>, prompt='Summarize the main arguments made in support of facial recognition technology in airport security, reiterating how it enhances efficiency, accuracy, and safety. Conclude with a strong statement urging stakeholders in the aviation industry to adopt and advocate for the widespread implementation of this technology. The conclusion should leave readers motivated with a clear understanding of why facial recognition is essential to modern airport security, reinforcing the thesis.')])\n"
     ]
    }
   ],
   "source": [
    "system_prompt = \"\"\"\n",
    "You are an expert author tasked with crafting a high-quality argumentative paper on a given topic, designed to resemble a compelling newspaper opinion piece. \n",
    "Your paper must follow a clear, logical structure and maintain a strong, engaging flow between paragraphs, avoiding redundancy while building a persuasive and cohesive argument. \n",
    "\n",
    "The paper must revolve around a well-defined thesis statement, which serves as the backbone of the argument. Every paragraph should explicitly or implicitly support the thesis, creating a unified and focused narrative.\n",
    "\n",
    "### Instructions:\n",
    "1. **Structure and Organization**:\n",
    "   - Begin the paper by clearly defining the thesis statement, ensuring it is specific, debatable, and sets the tone for the argument.\n",
    "   - The paper should include an outline with a compelling title and a sequence of well-structured paragraphs.\n",
    "   - Each paragraph must serve a distinct purpose, explicitly or implicitly supporting the thesis and connecting seamlessly to the next for a natural progression of ideas.\n",
    "\n",
    "2. **For Each Paragraph**:\n",
    "   - Assign a sequential number.\n",
    "   - Provide a descriptive name reflecting its role in the paper.\n",
    "   - Specify the paragraph type using the provided taxonomy.\n",
    "   - Include a concise, focused prompt designed to guide another LLM in generating the content for that paragraph.\n",
    "   - Clearly articulate how the paragraph relates to and supports the thesis.\n",
    "\n",
    "3. **Types of Paragraphs** (with descriptions):\n",
    "   - **Introduction**: Grabs attention, introduces the topic, presents the thesis or main argument, and outlines the structure of the paper.\n",
    "   - **Expository**: Explains key concepts, evidence, or background information essential for understanding the thesis.\n",
    "   - **Argumentative**: Advances a specific claim supported by evidence and analysis that directly supports the thesis.\n",
    "   - **Comparative**: Examines similarities or differences between two ideas, sources, or perspectives to highlight aspects that reinforce the thesis.\n",
    "   - **Synthesizing**: Connects multiple sources, arguments, or ideas to build a unified perspective and strengthen the thesis.\n",
    "   - **Counterargument**: Acknowledges opposing viewpoints, refutes them with reasoning and evidence, and reinforces the thesis.\n",
    "   - **Transitional**: Bridges ideas or sections to ensure a smooth flow and logical progression while maintaining focus on the thesis.\n",
    "   - **Analytical**: Delves into the implications, significance, or deeper meaning of evidence or a source in the context of the thesis.\n",
    "   - **Evaluative**: Critiques a source, argument, or perspective, assessing its credibility, strengths, and weaknesses in relation to the thesis.\n",
    "   - **Conclusion**: Summarizes the main arguments, reinforces the thesis, and provides a compelling closing statement or call to action.\n",
    "\n",
    "4. **Writing Style**:\n",
    "   - Use a concise, persuasive tone that mirrors the style of a top-tier opinion piece.\n",
    "   - Avoid redundancy by ensuring each paragraph introduces new insights or ideas that contribute to and reinforce the thesis.\n",
    "   - Prioritize logical flow between paragraphs to guide the reader smoothly through the argument while maintaining a consistent focus on the thesis.\n",
    "\n",
    "5. **Output**:\n",
    "   - The output should include a detailed outline of the paper with a dedicated section for the thesis statement.\n",
    "   - Ensure each paragraph prompt is precise, relevant, and explicitly tied to the thesis.\n",
    "   - Include space in the structured output to define the thesis statement and demonstrate how each paragraph supports it.\n",
    "\"\"\"\n",
    "\n",
    "class ParagraphType(str, Enum):\n",
    "  introduction = \"introduction\"\n",
    "  expository = \"expository\"\n",
    "  argumentative = \"argumentative\"\n",
    "  comparative = \"comparative\"\n",
    "  synthesizing = \"synthesizing\"\n",
    "  counterargument = \"counterargument\"\n",
    "  transitional = \"transitional\"\n",
    "  analytical = \"analytical\"\n",
    "  evaluative = \"evaluative\"\n",
    "  conclusion = \"conclusion\"\n",
    "\n",
    "class Paragraph(BaseModel):\n",
    "  number: int\n",
    "  name: str\n",
    "  paragraphType: ParagraphType\n",
    "  prompt: str\n",
    "  \n",
    "class PaperStructure(BaseModel):\n",
    "  title: str\n",
    "  thesis: str\n",
    "  paragraphs: List[Paragraph]\n",
    "\n",
    "# master thread\n",
    "response = client.beta.chat.completions.parse(\n",
    "    model=MODEL,\n",
    "    messages=[\n",
    "        {\"role\": \"system\", \"content\": system_prompt},\n",
    "        {\"role\": \"user\", \"content\": user_prompt}\n",
    "        ],\n",
    "    response_format=PaperStructure,\n",
    ")\n",
    "\n",
    "pprint.pprint(response.choices[0].message.parsed)"
   ]
  },
  {
   "cell_type": "code",
   "execution_count": 43,
   "metadata": {},
   "outputs": [
    {
     "name": "stdout",
     "output_type": "stream",
     "text": [
      "Title: The Imperative Role of Facial Recognition Technology in Airport Security\n",
      "Thesis: Facial recognition technology is a crucial tool for enhancing airport security, as it significantly improves threat detection efficiency, ensures quick and accurate passenger identification, and strengthens the overall safety of air travel.\n",
      "1.   Introduction to Facial Recognition in Airports (introduction)\n",
      "2.   Understanding Facial Recognition Technology (expository)\n",
      "3.   Enhancing Efficiency in Threat Detection (argumentative)\n",
      "4.   Accuracy in Passenger Identification (argumentative)\n",
      "5.   Comparative Analysis with Traditional Security Methods (comparative)\n",
      "6.   Addressing Privacy Concerns (counterargument)\n",
      "7.   Seamless Integration and Future Prospects (synthesizing)\n",
      "8.   Implications for Travelers and Airport Operations (analytical)\n",
      "9.   Reinforcing Global Aviation Security (evaluative)\n",
      "10.   Conclusion and Call to Action (conclusion)\n"
     ]
    }
   ],
   "source": [
    "print (f\"Title: {response.choices[0].message.parsed.title}\")\n",
    "print (f\"Thesis: {response.choices[0].message.parsed.thesis}\")\n",
    "for paragraph in response.choices[0].message.parsed.paragraphs:\n",
    "  print(f\"{paragraph.number}.   {paragraph.name} ({paragraph.paragraphType.value})\")\n",
    "#   print(f\"Prompt: {paragraph.prompt}\")\n",
    "#   print(\"\\n\")"
   ]
  },
  {
   "cell_type": "markdown",
   "metadata": {},
   "source": [
    "### Writing paragraphs"
   ]
  },
  {
   "cell_type": "code",
   "execution_count": null,
   "metadata": {},
   "outputs": [
    {
     "name": "stdout",
     "output_type": "stream",
     "text": [
      "ParsedChatCompletion[NoneType](id='chatcmpl-ApOSfsWPdXrmzsRrEP7mrRMd1XjuT', choices=[ParsedChoice[NoneType](finish_reason='stop', index=0, logprobs=None, message=ParsedChatCompletionMessage[NoneType](content=\"In today's fast-paced and interconnected world, airport security has become a cornerstone of global transportation, underpinning the safety and confidence of millions of travelers every day. However, traditional security measures, often reliant on physical screenings and human oversight, face mounting challenges in effectively managing the increasing volume of passengers while ensuring robust threat detection. Such methods can be time-consuming, prone to human error, and sometimes inadequate in the face of sophisticated threats. Injecting efficiency and precision into this arena is thus paramount, which is where facial recognition technology comes into play. This paper argues that facial recognition technology is a crucial tool for enhancing airport security, as it significantly improves threat detection efficiency, ensures quick and accurate passenger identification, and strengthens the overall safety of air travel. To support this thesis, the paper will first provide an expository overview of facial recognition technology, followed by a detailed discussion of its role in improving threats' detection efficiency and enhancing precision in passenger identification. A comparative analysis with traditional security methods will shed light on its superior capabilities. The paper will also address the potential privacy concerns associated with its deployment, emphasizing the balance between security and personal rights. Ultimately, it will explore the seamless integration of this technology and its future prospects, as well as its implications for travelers and airport operations, before evaluating its impact on reinforcing global aviation security.\", refusal=None, role='assistant', audio=None, function_call=None, tool_calls=[], parsed=None))], created=1736812121, model='gpt-4o-2024-08-06', object='chat.completion', service_tier='default', system_fingerprint='fp_703d4ff298', usage=CompletionUsage(completion_tokens=263, prompt_tokens=1140, total_tokens=1403, completion_tokens_details=CompletionTokensDetails(accepted_prediction_tokens=0, audio_tokens=0, reasoning_tokens=0, rejected_prediction_tokens=0), prompt_tokens_details=PromptTokensDetails(audio_tokens=0, cached_tokens=0)))\n"
     ]
    }
   ],
   "source": [
    "system_prompt = \"\"\"\n",
    "You are an expert writer tasked with crafting a single, high-quality paragraph for an argumentative paper.\n",
    "\n",
    "You will be provided with the full structure of the paper, including the names and types of each paragraph in order, as well as a prompt defining the focus of the paragraph you are writing and the thesis of the paper.\n",
    "\n",
    "Your writing must be concise, meaningful, and directly tied to the thesis while ensuring smooth transitions between paragraphs and sections.\n",
    "\n",
    "### Instructions:\n",
    "\n",
    "1. **Understand the Context**:\n",
    "\n",
    "   - Review the full structure of the paper to understand the flow and relationships between paragraphs.\n",
    "   - Identify the role of the paragraph you are crafting within the structure and how it connects to the previous and next paragraphs.\n",
    "   - Use the provided prompt to craft a focused, purposeful paragraph that aligns with the thesis and contributes to the overall logical progression of the paper.\n",
    "\n",
    "2. **Paragraph Types**:\n",
    "\n",
    "   - **Introduction**: Hook the reader, introduce the topic, present the thesis, and briefly outline the paper's key arguments. Ensure this paragraph establishes a strong foundation for the paper's flow.\n",
    "   - **Expository**: Provide essential context or explain key evidence directly related to the thesis. Connect the context to the prior argument and set up the next paragraph.\n",
    "   - **Argumentative**: Present a strong, specific claim backed by evidence that directly supports the thesis. Conclude by preparing the reader for the next argument or evidence.\n",
    "   - **Comparative**: Analyze similarities or differences to highlight aspects that strengthen the thesis. Smoothly connect comparisons to prior and forthcoming paragraphs.\n",
    "   - **Synthesizing**: Combine ideas or sources to form a cohesive argument that advances the thesis. Tie synthesized ideas to the preceding discussion and suggest implications for the next section.\n",
    "   - **Counterargument**: Address and refute opposing views with clear evidence and reasoning. Transition smoothly from prior points and guide the reader back to the thesis.\n",
    "   - **Transitional**: Connect ideas or sections to ensure smooth, logical progression while maintaining focus on the thesis. Serve as a bridge that reinforces continuity and introduces the next section.\n",
    "   - **Analytical**: Explore the deeper implications or significance of evidence in relation to the thesis. Link implications to prior evidence and analysis and set up subsequent arguments.\n",
    "   - **Evaluative**: Critique a source or argument, focusing on its relevance and impact on the thesis. Ensure the critique builds on prior evidence and analysis and transitions to the next key point.\n",
    "   - **Conclusion**: Summarize key points, restate the thesis, and provide a strong closing insight or call to action. The final sentence should unify the discussion and leave a lasting impression.\n",
    "\n",
    "3. **Writing Style**:\n",
    "\n",
    "   - Use clear, direct language that conveys meaningful content without unnecessary words. Don't use overly complex language.\n",
    "   - Avoid redundancy and focus on presenting new insights or advancing the argument.\n",
    "   - Maintain a logical flow that ties each paragraph to the thesis and ensures smooth progression between ideas and sections.\n",
    "   - Include in-text citations in APA format (Author, Year) when referencing sources or evidence.\n",
    "\n",
    "4. **Paragraph Structure**:\n",
    "\n",
    "   - Begin with a topic sentence that establishes the paragraph's main idea and links it to the previous paragraph.\n",
    "   - Support the idea with concise evidence, analysis, or reasoning, including appropriate in-text citations for all evidence and claims from sources.\n",
    "   - End with a sentence that reinforces the thesis and transitions logically to the next section.\n",
    "\n",
    "5. **Additional Guidance for Full Paper Structure**:\n",
    "\n",
    "   - Refer to the names and types of each paragraph to understand their individual roles and how they contribute to the overall argument.\n",
    "   - Ensure each paragraph builds on the ideas established in previous paragraphs and sets up the next for a cohesive narrative.\n",
    "   - Use transitional phrases and logical connections to maintain smooth and seamless progression.\n",
    "   - If you can reasonably assume that an abbreviation or idea has been defined in a previous paragraph or in the thesis, you should not redefine it and can use it as needed.\n",
    "   - Consistently cite sources using APA format in-text citations.\n",
    "\n",
    "6. **Output**:\n",
    "\n",
    "   - Write a single paragraph of 150–250 words unless specified otherwise.\n",
    "   - Ensure the paragraph is concise, precise, and ready to be part of the larger argument.\n",
    "   - Explicitly address the prompt, connect to the thesis in a meaningful way, and ensure smooth transitions from and to other paragraphs.\n",
    "   - Include appropriate in-text citations for all evidence and claims from sources.\n",
    "\n",
    "\"\"\"\n",
    "\n",
    "\n",
    "\n",
    "\n",
    "responses = []\n",
    "thesis = response.choices[0].message.parsed.thesis\n",
    "structure = \"\".join([f\"{i}. {paragraph.name} ({paragraph.paragraphType.value})\\n\" for i, paragraph in enumerate(response.choices[0].message.parsed.paragraphs)])\n",
    "research = \"\\n\".join(research_responses)\n",
    "\n",
    "for paragraph in response.choices[0].message.parsed.paragraphs:\n",
    "   user_prompt = f\"\"\"Name: <name>{paragraph.name}</name>\n",
    "      Type: <type>{paragraph.paragraphType.value}</type>\n",
    "      Prompt: <prompt>{paragraph.prompt}</prompt>\n",
    "      Thesis: <thesis>{thesis}</thesis>\n",
    "      Paragraph Structure: <structure>{structure}</structure>\n",
    "      Research: <research>{research_responses}</research>\"\"\"\n",
    "\n",
    "   r = client.beta.chat.completions.parse(\n",
    "         model=MODEL,\n",
    "         messages=[\n",
    "               {\"role\": \"system\", \"content\": system_prompt},\n",
    "               {\"role\": \"user\", \"content\": user_prompt}\n",
    "               ]\n",
    "      )\n",
    "   responses.append(r)\n",
    "\n",
    "print(responses[0])"
   ]
  },
  {
   "cell_type": "code",
   "execution_count": 45,
   "metadata": {},
   "outputs": [
    {
     "name": "stdout",
     "output_type": "stream",
     "text": [
      "('Facial recognition technology ensures greater accuracy in passenger '\n",
      " 'identification than manual checks, providing a robust defense against human '\n",
      " 'error and inefficiencies. Unlike traditional identification methods reliant '\n",
      " 'on human observation and document verification, facial recognition harnesses '\n",
      " 'advanced algorithms to analyze biometric data, drastically reducing the '\n",
      " 'likelihood of oversight or misidentification. This technological advantage '\n",
      " 'is evidenced by case studies conducted at major airports, such as the trial '\n",
      " 'at Atlanta’s Hartsfield-Jackson Airport, where facial recognition improved '\n",
      " 'identification accuracy from the typical 85-90% associated with manual '\n",
      " 'checks to an impressive 98%. By accurately matching passengers against '\n",
      " 'comprehensive databases, facial recognition swiftly and reliably identifies '\n",
      " 'individuals flagged as potential threats or listed on security watchlists. '\n",
      " 'This heightened precision in detecting suspicious individuals not only '\n",
      " 'enhances airport security but also fosters a safer travel environment '\n",
      " 'without the delays caused by manual checks. By focusing on accuracy, facial '\n",
      " 'recognition technology effectively strengthens security measures, addressing '\n",
      " 'pressing safety concerns by ensuring the right individuals are monitored or '\n",
      " 'detained. The argument for facial recognition becomes stronger when compared '\n",
      " 'to inconsistencies and errors common in human-led processes, thus '\n",
      " 'underscoring its role in advancing both efficiency and security within '\n",
      " 'airports. This improved accuracy sets up the groundwork for comparing these '\n",
      " 'methods with traditional security in the next section.')\n"
     ]
    }
   ],
   "source": [
    "paragraphs = [r.choices[0].message.content for r in responses]\n",
    "pprint.pprint(paragraphs[3])"
   ]
  },
  {
   "cell_type": "markdown",
   "metadata": {},
   "source": [
    "## Exporting to Google Docs"
   ]
  },
  {
   "cell_type": "code",
   "execution_count": 23,
   "metadata": {},
   "outputs": [
    {
     "ename": "NameError",
     "evalue": "name 'response' is not defined",
     "output_type": "error",
     "traceback": [
      "\u001b[0;31m---------------------------------------------------------------------------\u001b[0m",
      "\u001b[0;31mNameError\u001b[0m                                 Traceback (most recent call last)",
      "Cell \u001b[0;32mIn[23], line 2\u001b[0m\n\u001b[1;32m      1\u001b[0m \u001b[38;5;66;03m# Sample data (replace with your own references)\u001b[39;00m\n\u001b[0;32m----> 2\u001b[0m title \u001b[38;5;241m=\u001b[39m \u001b[43mresponse\u001b[49m\u001b[38;5;241m.\u001b[39mchoices[\u001b[38;5;241m0\u001b[39m]\u001b[38;5;241m.\u001b[39mmessage\u001b[38;5;241m.\u001b[39mparsed\u001b[38;5;241m.\u001b[39mtitle\n\u001b[1;32m      4\u001b[0m create_doc\u001b[38;5;241m.\u001b[39mcreate_document(paragraphs, thesis, title, citations)\n",
      "\u001b[0;31mNameError\u001b[0m: name 'response' is not defined"
     ]
    }
   ],
   "source": [
    "# Sample data (replace with your own references)\n",
    "title = response.choices[0].message.parsed.title\n",
    "\n",
    "create_doc.create_document(paragraphs, thesis, title, citations)"
   ]
  }
 ],
 "metadata": {
  "kernelspec": {
   "display_name": "Python 3",
   "language": "python",
   "name": "python3"
  },
  "language_info": {
   "codemirror_mode": {
    "name": "ipython",
    "version": 3
   },
   "file_extension": ".py",
   "mimetype": "text/x-python",
   "name": "python",
   "nbconvert_exporter": "python",
   "pygments_lexer": "ipython3",
   "version": "3.11.11"
  }
 },
 "nbformat": 4,
 "nbformat_minor": 2
}
